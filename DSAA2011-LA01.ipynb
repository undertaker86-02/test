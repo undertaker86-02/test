{
 "cells": [
  {
   "cell_type": "markdown",
   "id": "16f16420-62e4-47ed-adb4-f53db4ee05b9",
   "metadata": {},
   "source": [
    "## *2025 Fall DSAA 2011 Machine Learning*\n",
    "## Lab Note 01\n",
    "*Changkai Mai*, *Zixin Zhong*\\\n",
    "*Hong Kong University of Science and Technology (Guangzhou)*\n"
   ]
  },
  {
   "cell_type": "markdown",
   "id": "2309aea2-fe76-47c5-9392-3e9ca993e68c",
   "metadata": {},
   "source": [
    "**Important note**: make sure Python can be used in your computer.\\\n",
    "Follow the instructions from Lab Note 0 to configure your python environment.\n"
   ]
  },
  {
   "cell_type": "markdown",
   "id": "fa7f8e58-2c5c-4f90-8a34-f8e52f5c2811",
   "metadata": {},
   "source": [
    "**Question 1.** What is the difference between online learning and offline learning?"
   ]
  },
  {
   "cell_type": "code",
   "execution_count": null,
   "id": "2ca82974-58d7-4371-8168-dceec3fbf9e3",
   "metadata": {},
   "outputs": [],
   "source": []
  },
  {
   "cell_type": "markdown",
   "id": "194f6063",
   "metadata": {},
   "source": [
    "**Question 2.** Show that if $f:\\mathbb{R}^d\\to\\mathbb{R}$ is a linear function, then $f$ must pass through the origin, i.e., $f(\\mathbf{0})=0$ where $\\mathbf{0}\\in\\mathbb{R}^d$ is the zero vector with $d$ dimensions."
   ]
  },
  {
   "cell_type": "code",
   "execution_count": null,
   "id": "f4c6c931",
   "metadata": {},
   "outputs": [],
   "source": []
  },
  {
   "cell_type": "markdown",
   "id": "89533a75",
   "metadata": {},
   "source": [
    "**Question 3.** Is a linear function affine? Is an affine function linear?"
   ]
  },
  {
   "cell_type": "code",
   "execution_count": null,
   "id": "8af58acf",
   "metadata": {},
   "outputs": [],
   "source": []
  },
  {
   "cell_type": "markdown",
   "id": "0d30083d",
   "metadata": {},
   "source": [
    "**Question 4.** Let $A\\in\\mathbb{R}^{m \\times n}$, $b \\in \\mathbb{R}^m$. Define the function:\n",
    "$$\n",
    "f(x) = \\|Ax - b\\|^2_2 = (Ax - b)^\\top(Ax - b), \\quad x \\in \\mathbb{R}^n\n",
    "$$\n",
    "\n",
    "1. Compute the gradient $\\nabla_xf(x)$.\n",
    "2. Compute the Hessian matrix $\\nabla^2_xf(x)$\n",
    "3. (Optional) Validate your answer Using `PyTorch`"
   ]
  },
  {
   "cell_type": "code",
   "execution_count": null,
   "id": "79a456f9",
   "metadata": {},
   "outputs": [],
   "source": []
  },
  {
   "cell_type": "markdown",
   "id": "3f222654-9ad8-402f-aa8f-af2ac9dc4bc8",
   "metadata": {},
   "source": [
    "**Question 5.** Let $\\mathcal{D} = \\{X_1,\\ldots,X_n\\}$ be a set of $n$ samples independently drawn from the univariate Gaussian distribution with \n",
    "\\begin{align}\n",
    "f_X\\left(x ; \\mu, \\sigma^2\\right)=\\mathcal{N}\\left(x ; \\mu, \\sigma^2\\right)=\\frac{1}{\\sqrt{2 \\pi \\sigma^2}} \\exp \\left(-\\frac{1}{2 \\sigma^2}(x-\\mu)^2\\right) \\quad x \\in \\mathbb{R}.\n",
    "\\end{align}\n",
    "Derive the formula of maximum likelihood estimation (MLE) of mean $\\mu$ and variance $\\sigma^2$."
   ]
  },
  {
   "cell_type": "code",
   "execution_count": null,
   "id": "4af9a2bd-979a-4f0c-a922-f2f885600064",
   "metadata": {},
   "outputs": [],
   "source": []
  },
  {
   "cell_type": "markdown",
   "id": "103d619a-3383-432f-bd81-c8c1b5a894ca",
   "metadata": {},
   "source": [
    "**Question 6.** Generate dataset and calculate MLE with Python.\n",
    "1. Generate three datasets:\n",
    "    1. $n=100$ samples from Gaussian distribution $\\mathcal{N}(6,10)$;\n",
    "    1. $n=150$ samples from Bernoulli distribution $\\mathrm{Bern}(0.3)$;\n",
    "    2. $n=180$ samples from Exponential distribution $\\mathrm{Exp}(0.6)$.\n",
    "2. Plot each dataset with histogram.\n",
    "3. Using **only numpy**, calculate the maximum likelihood estimation of distribution parameters for each dataset.\n",
    "4. For each dataset, plot the data samples, ground truth distritbuion, and the distribution with MLE of parameters in the same figure. \n",
    "1. For each dataset, change $n$ and check the change of MLEs."
   ]
  },
  {
   "cell_type": "code",
   "execution_count": null,
   "id": "c711a039-be10-4d4e-b32d-9be9f771d5e0",
   "metadata": {},
   "outputs": [],
   "source": []
  }
 ],
 "metadata": {
  "kernelspec": {
   "display_name": "conda_env_1",
   "language": "python",
   "name": "conda_env_1"
  },
  "language_info": {
   "codemirror_mode": {
    "name": "ipython",
    "version": 3
   },
   "file_extension": ".py",
   "mimetype": "text/x-python",
   "name": "python",
   "nbconvert_exporter": "python",
   "pygments_lexer": "ipython3",
   "version": "3.13.2"
  }
 },
 "nbformat": 4,
 "nbformat_minor": 5
}
